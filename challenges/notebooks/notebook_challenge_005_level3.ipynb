{
  "cells": [
    {
      "cell_type": "markdown",
      "metadata": {
        "id": "view-in-github",
        "colab_type": "text"
      },
      "source": [
        "<a href=\"https://colab.research.google.com/github/gittil/30-day-challenges-with-sql/blob/main/challenges/notebooks/notebook_challenge_005_level3.ipynb\" target=\"_parent\"><img src=\"https://colab.research.google.com/assets/colab-badge.svg\" alt=\"Open In Colab\"/></a>"
      ]
    },
    {
      "cell_type": "markdown",
      "id": "160bbfb2",
      "metadata": {
        "id": "160bbfb2"
      },
      "source": [
        "\n",
        "# Por favor tente resolver o desafio sozinho, não pegue atalhos, tu consegue, é só colocar a cabeça para funcionar."
      ]
    },
    {
      "cell_type": "markdown",
      "id": "e0e85531",
      "metadata": {
        "id": "e0e85531"
      },
      "source": [
        "Execute a célula abaixo apenas uma vez."
      ]
    },
    {
      "cell_type": "code",
      "execution_count": 1,
      "id": "7d725090",
      "metadata": {
        "id": "7d725090",
        "outputId": "2d21d44b-2023-4094-f6e7-c6a383655bae",
        "colab": {
          "base_uri": "https://localhost:8080/"
        }
      },
      "outputs": [
        {
          "output_type": "stream",
          "name": "stderr",
          "text": [
            "Cloning into '30-day-challenges-with-sql'...\n"
          ]
        }
      ],
      "source": [
        "%%bash\n",
        "\n",
        "rm -rf /tmp/github; mkdir -p /tmp/github; cd /tmp/github\n",
        "git clone https://github.com/romeritomorais/30-day-challenges-with-sql.git\n",
        "sh /tmp/github/30-day-challenges-with-sql/challenges/utils/install-miniconda.sh > /dev/null 2>&1\n",
        "sh /tmp/github/30-day-challenges-with-sql/challenges/utils/update-miniconda.sh > /dev/null 2>&1"
      ]
    },
    {
      "cell_type": "markdown",
      "id": "467f1c4a",
      "metadata": {
        "id": "467f1c4a"
      },
      "source": [
        "Neste desafio precisaremos fazer uma transformação completa na tabela `Customer`! \n",
        "1.Concatene as colunas `Customer.FirstName` e `Customer.LastName`, gerando uma coluna `nome` onde apenas a primeira letra do nome seja Maiúscula. Exemplo: Fernanda Ramos    \n",
        "2.Concatene as colunas `Customer.City` e `Customer.State`, e gerando uma coluna com a descrição `cidade` onde apenas a coluna `Customer.State` seja Maiúscula. Exemplo: belém-PA.     \n",
        "3.Crie uma nova coluna chamada `cep` a partir da coluna `Customer.PostalCode` removendo todos os caracteres e convertendo o tipo de dados para Integer. \n",
        "4.Filtre a tabela para apresentear somente dados do país \"BRAZIL\" e cep <> 0\n",
        "\n",
        "Critério:  \n",
        "Escreva essa transformação em apenas uma query. Boa sorte!\n",
        "\n",
        "resultado esperado:  \n",
        "\n",
        "|codigo|nome|endereco|cidade|pais|cep|telefone|Email\n",
        "|-----:|-----:|-----:|-----:|-----:|-----:|-----:|-----\n",
        "|1|Luís gonçalves|av. brigadeiro faria lima, 2170|são josé dos campos-SP|BRAZIL|12227000|551239235555|luisg@embraer.com.br\n",
        "|10|Eduardo martins|rua dr. falcão filho, 155|são paulo-SP|BRAZIL|1007010|551130335446|eduardo@woodstock.com.br\n",
        "|11|Alexandre rocha|av. paulista, 2022|são paulo-SP|BRAZIL|1310200|551130553278|alero@uol.com.br\n",
        "|12|Roberto almeida|praça pio x, 119|rio de janeiro-RJ|BRAZIL|20040020|552122717000|roberto.almeida@riotur.gov.br\n",
        "|13|Fernanda ramos|qe 7 bloco g|brasília-DF|BRAZIL|71020677|556133635547|fernadaramos4@uol.com.br\n",
        "\n",
        "Na célula onde se encontra o `%%sql`, escreva sua query, sem deletar o comando. Exemplo:  \n",
        "```python\n",
        "%%sql\n",
        "select * from Customer\n",
        "```\n",
        "\n",
        "Para resolução utilize a documentação do sqlite:https://www.sqlite.org/docs.html"
      ]
    },
    {
      "cell_type": "code",
      "execution_count": 2,
      "id": "981a5488",
      "metadata": {
        "id": "981a5488",
        "outputId": "2220f7d8-06c2-41af-dc85-e4ae2b6cd106",
        "colab": {
          "base_uri": "https://localhost:8080/",
          "height": 35
        }
      },
      "outputs": [
        {
          "output_type": "execute_result",
          "data": {
            "text/plain": [
              "'Connected: @//tmp/github/30-day-challenges-with-sql/challenges/utils/db/database.db'"
            ],
            "application/vnd.google.colaboratory.intrinsic+json": {
              "type": "string"
            }
          },
          "metadata": {},
          "execution_count": 2
        }
      ],
      "source": [
        "%load_ext sql\n",
        "%sql sqlite://///tmp/github/30-day-challenges-with-sql/challenges/utils/db/database.db"
      ]
    },
    {
      "cell_type": "code",
      "source": [
        "%%sql\n",
        "SELECT * FROM Customer LIMIT 1"
      ],
      "metadata": {
        "id": "a2OBUzAQ2mIC",
        "outputId": "9e51e8cb-cfec-47b2-ba5a-4d37d1b953b6",
        "colab": {
          "base_uri": "https://localhost:8080/",
          "height": 113
        }
      },
      "id": "a2OBUzAQ2mIC",
      "execution_count": 16,
      "outputs": [
        {
          "output_type": "stream",
          "name": "stdout",
          "text": [
            " * sqlite://///tmp/github/30-day-challenges-with-sql/challenges/utils/db/database.db\n",
            "Done.\n"
          ]
        },
        {
          "output_type": "execute_result",
          "data": {
            "text/plain": [
              "[(1, 'Luís', 'Gonçalves', 'Embraer - Empresa Brasileira de Aeronáutica S.A.', 'Av. Brigadeiro Faria Lima, 2170', 'São José dos Campos', 'SP', 'Brazil', '12227-000', '+55 (12) 3923-5555', '+55 (12) 3923-5566', 'luisg@embraer.com.br', 3)]"
            ],
            "text/html": [
              "<table>\n",
              "    <thead>\n",
              "        <tr>\n",
              "            <th>CustomerId</th>\n",
              "            <th>FirstName</th>\n",
              "            <th>LastName</th>\n",
              "            <th>Company</th>\n",
              "            <th>Address</th>\n",
              "            <th>City</th>\n",
              "            <th>State</th>\n",
              "            <th>Country</th>\n",
              "            <th>PostalCode</th>\n",
              "            <th>Phone</th>\n",
              "            <th>Fax</th>\n",
              "            <th>Email</th>\n",
              "            <th>SupportRepId</th>\n",
              "        </tr>\n",
              "    </thead>\n",
              "    <tbody>\n",
              "        <tr>\n",
              "            <td>1</td>\n",
              "            <td>Luís</td>\n",
              "            <td>Gonçalves</td>\n",
              "            <td>Embraer - Empresa Brasileira de Aeronáutica S.A.</td>\n",
              "            <td>Av. Brigadeiro Faria Lima, 2170</td>\n",
              "            <td>São José dos Campos</td>\n",
              "            <td>SP</td>\n",
              "            <td>Brazil</td>\n",
              "            <td>12227-000</td>\n",
              "            <td>+55 (12) 3923-5555</td>\n",
              "            <td>+55 (12) 3923-5566</td>\n",
              "            <td>luisg@embraer.com.br</td>\n",
              "            <td>3</td>\n",
              "        </tr>\n",
              "    </tbody>\n",
              "</table>"
            ]
          },
          "metadata": {},
          "execution_count": 16
        }
      ]
    },
    {
      "cell_type": "code",
      "execution_count": 20,
      "id": "275157e9",
      "metadata": {
        "id": "275157e9",
        "outputId": "296bc59f-744a-4094-afd5-f7353e62fffd",
        "colab": {
          "base_uri": "https://localhost:8080/",
          "height": 179
        }
      },
      "outputs": [
        {
          "output_type": "stream",
          "name": "stdout",
          "text": [
            " * sqlite://///tmp/github/30-day-challenges-with-sql/challenges/utils/db/database.db\n",
            "Done.\n"
          ]
        },
        {
          "output_type": "execute_result",
          "data": {
            "text/plain": [
              "[('Luís Gonçalves', 'Av. Brigadeiro Faria Lima, 2170', 'são josé dos campos-SP', 'Brazil', 12227000, '+55 (12) 3923-5555', 'luisg@embraer.com.br'),\n",
              " ('Eduardo Martins', 'Rua Dr. Falcão Filho, 155', 'são paulo-SP', 'Brazil', 1007010, '+55 (11) 3033-5446', 'eduardo@woodstock.com.br'),\n",
              " ('Alexandre Rocha', 'Av. Paulista, 2022', 'são paulo-SP', 'Brazil', 1310200, '+55 (11) 3055-3278', 'alero@uol.com.br'),\n",
              " ('Roberto Almeida', 'Praça Pio X, 119', 'rio de janeiro-RJ', 'Brazil', 20040020, '+55 (21) 2271-7000', 'roberto.almeida@riotur.gov.br'),\n",
              " ('Fernanda Ramos', 'Qe 7 Bloco G', 'brasília-DF', 'Brazil', 71020677, '+55 (61) 3363-5547', 'fernadaramos4@uol.com.br')]"
            ],
            "text/html": [
              "<table>\n",
              "    <thead>\n",
              "        <tr>\n",
              "            <th>Nome</th>\n",
              "            <th>Endereco</th>\n",
              "            <th>cidade</th>\n",
              "            <th>pais</th>\n",
              "            <th>cep</th>\n",
              "            <th>Telefone</th>\n",
              "            <th>Email</th>\n",
              "        </tr>\n",
              "    </thead>\n",
              "    <tbody>\n",
              "        <tr>\n",
              "            <td>Luís Gonçalves</td>\n",
              "            <td>Av. Brigadeiro Faria Lima, 2170</td>\n",
              "            <td>são josé dos campos-SP</td>\n",
              "            <td>Brazil</td>\n",
              "            <td>12227000</td>\n",
              "            <td>+55 (12) 3923-5555</td>\n",
              "            <td>luisg@embraer.com.br</td>\n",
              "        </tr>\n",
              "        <tr>\n",
              "            <td>Eduardo Martins</td>\n",
              "            <td>Rua Dr. Falcão Filho, 155</td>\n",
              "            <td>são paulo-SP</td>\n",
              "            <td>Brazil</td>\n",
              "            <td>1007010</td>\n",
              "            <td>+55 (11) 3033-5446</td>\n",
              "            <td>eduardo@woodstock.com.br</td>\n",
              "        </tr>\n",
              "        <tr>\n",
              "            <td>Alexandre Rocha</td>\n",
              "            <td>Av. Paulista, 2022</td>\n",
              "            <td>são paulo-SP</td>\n",
              "            <td>Brazil</td>\n",
              "            <td>1310200</td>\n",
              "            <td>+55 (11) 3055-3278</td>\n",
              "            <td>alero@uol.com.br</td>\n",
              "        </tr>\n",
              "        <tr>\n",
              "            <td>Roberto Almeida</td>\n",
              "            <td>Praça Pio X, 119</td>\n",
              "            <td>rio de janeiro-RJ</td>\n",
              "            <td>Brazil</td>\n",
              "            <td>20040020</td>\n",
              "            <td>+55 (21) 2271-7000</td>\n",
              "            <td>roberto.almeida@riotur.gov.br</td>\n",
              "        </tr>\n",
              "        <tr>\n",
              "            <td>Fernanda Ramos</td>\n",
              "            <td>Qe 7 Bloco G</td>\n",
              "            <td>brasília-DF</td>\n",
              "            <td>Brazil</td>\n",
              "            <td>71020677</td>\n",
              "            <td>+55 (61) 3363-5547</td>\n",
              "            <td>fernadaramos4@uol.com.br</td>\n",
              "        </tr>\n",
              "    </tbody>\n",
              "</table>"
            ]
          },
          "metadata": {},
          "execution_count": 20
        }
      ],
      "source": [
        "%%sql\n",
        "SELECT FirstName || ' ' || LastName AS Nome, \n",
        "       Address AS Endereco,\n",
        "       LOWER(City) || '-' || State AS cidade,\n",
        "       Country AS pais, \n",
        "       CAST(REPLACE(PostalCode,\"-\",\"\") AS INT) AS cep,\n",
        "       Phone AS Telefone,\n",
        "       Email\n",
        "FROM Customer\n",
        "WHERE Country = 'Brazil'"
      ]
    }
  ],
  "metadata": {
    "kernelspec": {
      "display_name": "Python 3 (ipykernel)",
      "language": "python",
      "name": "python3"
    },
    "language_info": {
      "codemirror_mode": {
        "name": "ipython",
        "version": 3
      },
      "file_extension": ".py",
      "mimetype": "text/x-python",
      "name": "python",
      "nbconvert_exporter": "python",
      "pygments_lexer": "ipython3",
      "version": "3.7.9"
    },
    "colab": {
      "name": "notebook_challenge_005_level3.ipynb",
      "provenance": [],
      "include_colab_link": true
    }
  },
  "nbformat": 4,
  "nbformat_minor": 5
}